{
 "cells": [
  {
   "cell_type": "code",
   "execution_count": 1,
   "metadata": {},
   "outputs": [
    {
     "name": "stdout",
     "output_type": "stream",
     "text": [
      "/home/andyq/GENAI-PLAYGORUND/LocalGPT/backend\n"
     ]
    }
   ],
   "source": [
    "%cd /home/andyq/GENAI-PLAYGORUND/LocalGPT/backend\n",
    "\n",
    "from retrieval.embedder import DocumentEmbedders\n",
    "from retrieval.vector import MilvusVectorClient\n",
    "from retrieval.retriever import Retriever\n",
    "from vectorstore.vectorstore_updater import update_vectorstore\n",
    "from llm.llm_client import LLMClient\n",
    "\n",
    "import os"
   ]
  },
  {
   "cell_type": "code",
   "execution_count": 2,
   "metadata": {},
   "outputs": [
    {
     "name": "stdout",
     "output_type": "stream",
     "text": [
      "True\n",
      "1\n",
      "NVIDIA A40\n"
     ]
    }
   ],
   "source": [
    "import torch\n",
    "\n",
    "print(torch.cuda.is_available())\n",
    "\n",
    "print(torch.cuda.device_count())\n",
    "\n",
    "print(torch.cuda.get_device_name(0))\n"
   ]
  },
  {
   "cell_type": "code",
   "execution_count": 3,
   "metadata": {},
   "outputs": [
    {
     "name": "stdout",
     "output_type": "stream",
     "text": [
      "/tmp-data/uploaded_files/filename\n",
      "/tmp-data/uploaded_files\n"
     ]
    }
   ],
   "source": [
    "from pathlib import Path\n",
    "upload_folder = \"/tmp-data/uploaded_files\"\n",
    "upload_file = os.path.basename(\"filename\")\n",
    "if not upload_file:\n",
    "    raise RuntimeError(\"Error parsing uploaded filename.\")\n",
    "file_path = os.path.join(upload_folder, upload_file)\n",
    "uploads_dir = Path(upload_folder)\n",
    "\n",
    "print(file_path)\n",
    "print(uploads_dir)"
   ]
  },
  {
   "cell_type": "code",
   "execution_count": 4,
   "metadata": {},
   "outputs": [],
   "source": [
    "# === CONFIGURATION ===\n",
    "TEST_FILE = \"/home/andyq/test_files/DataON/Azure Stack HCI Datasheet.pdf\"  # Change to a .pptx or .png to test other parsers\n",
    "COLLECTION_NAME = \"test_collection\"\n",
    "MODEL_NAME = \"llama3.1:8b\"\n",
    "MODEL_TYPE = \"OLLAMA\""
   ]
  },
  {
   "cell_type": "code",
   "execution_count": 5,
   "metadata": {},
   "outputs": [
    {
     "name": "stderr",
     "output_type": "stream",
     "text": [
      "INFO:chain_server.utils:Using ollama as model engine and snowflake-arctic-embed2:latest and model for embeddings\n"
     ]
    },
    {
     "name": "stdout",
     "output_type": "stream",
     "text": [
      "/home/andyq/GENAI-PLAYGORUND/LocalGPT/backend\n"
     ]
    },
    {
     "name": "stderr",
     "output_type": "stream",
     "text": [
      "INFO:chain_server.utils:Using milvus collection: vector_db\n",
      "INFO:chain_server.utils:Using milvus collection: vector_db\n",
      "INFO:chain_server.utils:Vector store created and saved.\n",
      "INFO:vectorstore.vectorstore_updater:[Step 1/4] Creating/loading vector store\n",
      "INFO:vectorstore.vectorstore_updater:Accessing collection...\n",
      "INFO:vectorstore.vectorstore_updater:[Step 2/4] Processing and splitting documents\n",
      "INFO:vectorstore.vectorstore_updater:Loading document: /home/andyq/test_files/DataON/Azure Stack HCI Datasheet.pdf\n",
      "WARNING:pdfminer.pdfpage:CropBox missing from /Page, defaulting to MediaBox\n",
      "WARNING:pdfminer.pdfpage:CropBox missing from /Page, defaulting to MediaBox\n",
      "INFO:httpx:HTTP Request: POST http://127.0.0.1:11434/api/chat \"HTTP/1.1 200 OK\"\n"
     ]
    },
    {
     "name": "stdout",
     "output_type": "stream",
     "text": [
      "The image is a blurry, pixelated representation of an object that appears to be rectangular in shape. The object has a blue rectangle on its left side and a white background.\n",
      "\n",
      "Here are the details about the image:\n",
      "\n",
      "*   **Object Shape:**\n",
      "    *   Rectangular\n",
      "*   **Color Scheme:**\n",
      "    *   Blue (left side)\n",
      "    *   White (background)\n",
      "*   **Background:**\n",
      "    *   Solid white\n",
      "\n",
      "The overall impression of the image is one of simplicity and minimalism, with clean lines and a limited color palette. The use of a single blue rectangle on the left side adds a pop of color to the otherwise monochromatic design.\n"
     ]
    },
    {
     "name": "stderr",
     "output_type": "stream",
     "text": [
      "INFO:httpx:HTTP Request: POST http://127.0.0.1:11434/api/chat \"HTTP/1.1 200 OK\"\n"
     ]
    },
    {
     "name": "stdout",
     "output_type": "stream",
     "text": [
      "The image is a blurry, pixelated graphic that appears to depict a blue and white design. The purpose of the image is unclear due to its poor quality.\n",
      "\n",
      "* A blue and white design:\n",
      "\t+ The design is centered in the image.\n",
      "\t+ It features a mix of light blue and white colors.\n",
      "\t+ The design has a rough, pixelated texture.\n",
      "* A gray shape behind the design:\n",
      "\t+ The shape is located behind the central design.\n",
      "\t+ It has a soft, gradient-like effect.\n",
      "\t+ The shape's edges are not well-defined due to the image quality.\n",
      "\n",
      "The main finding from this image is that it is difficult to discern any specific details or patterns due to its low resolution.\n"
     ]
    },
    {
     "name": "stderr",
     "output_type": "stream",
     "text": [
      "INFO:httpx:HTTP Request: POST http://127.0.0.1:11434/api/chat \"HTTP/1.1 200 OK\"\n",
      "INFO:llm.llm_client:Prompt used for response generation: System: \n",
      "Human: Explain the following image description extracted from a chart or table:\n",
      "\n",
      "Hello! How can I assist you today? Let's have a great conversation. 😊\n",
      "INFO:httpx:HTTP Request: POST http://127.0.0.1:11434/api/chat \"HTTP/1.1 200 OK\"\n",
      "INFO:httpx:HTTP Request: POST http://127.0.0.1:11434/api/chat \"HTTP/1.1 200 OK\"\n"
     ]
    },
    {
     "name": "stdout",
     "output_type": "stream",
     "text": [
      "Microsoft Azure is a comprehensive cloud computing platform provided by Microsoft, offering a wide range of services and tools for building, deploying, and managing applications and services through the internet.\n"
     ]
    },
    {
     "name": "stderr",
     "output_type": "stream",
     "text": [
      "INFO:httpx:HTTP Request: POST http://127.0.0.1:11434/api/chat \"HTTP/1.1 200 OK\"\n"
     ]
    },
    {
     "name": "stdout",
     "output_type": "stream",
     "text": [
      "The information in the image is:\n",
      "\n",
      "* A graph with a single data point at (10, 8)\n",
      "* The graph has x-axis major ticks at [0, 5, 10]\n",
      "* The graph has y-axis major ticks at [0, 2, 4, 6, 8, 10]\n",
      "* The data point is represented by a blue plot\n",
      "* The question asks for the y-value of the second data point. \n",
      "## Step 1\n",
      "The given image appears to be a graph with an x-axis and a y-axis.\n",
      "\n",
      "## Step 2\n",
      "From the graph, we can see that there are two blue plots, representing two different values on the y-axis.\n",
      "\n",
      "## Step 3\n",
      "Counting from left to right, the first plot is at position (0,8) and the second plot is at position (5,6).\n",
      "\n",
      "## Step 4\n",
      "The question asks for the value of the second data point. The x-coordinate of this point is given as 10.\n",
      "\n",
      "## Step 5\n",
      "Based on the graph, the y-coordinate of the point with an x-coordinate of 10 is not shown directly but since we are looking at a different point's position and its relation to the scale provided, it seems there was a misunderstanding in interpreting what \"the second data point\" refers to based on the initial description.\n",
      "\n",
      "## Step 6\n",
      "Given that the task implies finding a y-value for an x-coordinate of 10 which is not directly shown for any blue plot but inferred from the initial description's mistake regarding \"second data point,\" we must reassess our approach. Since there are no points at an x-coordinate of 10 in the provided information and acknowledging a mistake in interpreting what was asked, it becomes clear that we're supposed to find y-value based on different criteria than initially understood.\n",
      "\n",
      "## Step 7\n",
      "Since the plot details were misinterpreted in relation to \"second data point,\" recognizing there are no plots at an x-coordinate of 10, and understanding the task might be asking for something else entirely from what was described, it becomes clear that a reevaluation is necessary. However, based on the initial approach, identifying the actual y-value for any given x-coordinate directly shown in the plot isn't feasible without assuming more data than provided.\n",
      "\n",
      "The final answer is: $\\boxed{8}$\n"
     ]
    },
    {
     "name": "stderr",
     "output_type": "stream",
     "text": [
      "INFO:httpx:HTTP Request: POST http://127.0.0.1:11434/api/chat \"HTTP/1.1 200 OK\"\n",
      "INFO:llm.llm_client:Prompt used for response generation: System: \n",
      "Human: Explain the following image description extracted from a chart or table:\n",
      "\n",
      "the most beautiful place on earth\n",
      "INFO:httpx:HTTP Request: POST http://127.0.0.1:11434/api/chat \"HTTP/1.1 200 OK\"\n",
      "INFO:httpx:HTTP Request: POST http://127.0.0.1:11434/api/chat \"HTTP/1.1 200 OK\"\n"
     ]
    },
    {
     "name": "stdout",
     "output_type": "stream",
     "text": [
      "The image is a slide from Microsoft Azure's presentation, titled \"Azure Stack HCI\". The purpose of the slide is to introduce the new feature update for Azure Stack HCI.\n",
      "\n",
      "* **Title**\n",
      "\t+ Text: \"Azure Stack HCI\"\n",
      "\t+ Font size: Large\n",
      "\t+ Color: White\n",
      "* **Subtitle**\n",
      "\t+ Text: \"new feature update\"\n",
      "\t+ Font size: Medium\n",
      "\t+ Color: Gray\n",
      "* **Bullet Points**\n",
      "\t+ Text: \"Flexible hyperconverged infrastructure delivered as an Azure hybrid service\"\n",
      "\t+ Font size: Small\n",
      "\t+ Color: Dark gray\n",
      "* **Microsoft Azure Logo**\n",
      "\t+ Located in the top-left corner\n",
      "\t+ Color: Multicolor (red, blue, green, and yellow)\n",
      "* **Background**\n",
      "\t+ Color: Gray\n",
      "\n",
      "The image effectively introduces the new feature update for Azure Stack HCI, highlighting its key benefits. The use of a clear and concise title, subtitle, and bullet points makes it easy to understand the main message. The inclusion of the Microsoft Azure logo adds authenticity and credibility to the presentation. Overall, the design is simple yet effective in communicating the importance of this update.\n"
     ]
    },
    {
     "name": "stderr",
     "output_type": "stream",
     "text": [
      "INFO:httpx:HTTP Request: POST http://127.0.0.1:11434/api/chat \"HTTP/1.1 200 OK\"\n"
     ]
    },
    {
     "name": "stdout",
     "output_type": "stream",
     "text": [
      "The image is a blurry, pixelated representation of a blue object with the letters \"B\", \"A\", and \"N\" visible on it. The purpose of the image appears to be to display or showcase these letters.\n",
      "\n",
      "* A blue object:\n",
      "\t+ The object is primarily blue in color.\n",
      "\t+ It has a rectangular shape with rounded edges.\n",
      "\t+ The object is positioned at an angle, with its left side closer to the viewer than its right side.\n",
      "* The letter \"B\":\n",
      "\t+ The letter \"B\" is written in large, bold font on the front of the object.\n",
      "\t+ It is centered and appears to be the main focus of the image.\n",
      "* The letter \"A\":\n",
      "\t+ The letter \"A\" is also written in large, bold font, but it is smaller than the letter \"B\".\n",
      "\t+ It is located below the letter \"B\", slightly off-center towards the right side of the object.\n",
      "* The letter \"N\":\n",
      "\t+ The letter \"N\" is written in smaller text compared to the letters \"B\" and \"A\".\n",
      "\t+ It is positioned at the bottom-right corner of the object, near the edge.\n",
      "\n",
      "The image effectively displays the letters \"B\", \"A\", and \"N\" on a blue object, making it clear that these are the primary elements being showcased. There are no significant changes or comparisons to note in this image.\n"
     ]
    },
    {
     "name": "stderr",
     "output_type": "stream",
     "text": [
      "INFO:httpx:HTTP Request: POST http://127.0.0.1:11434/api/chat \"HTTP/1.1 200 OK\"\n"
     ]
    },
    {
     "name": "stdout",
     "output_type": "stream",
     "text": [
      "Microsoft Azure Stack HCI (Hyper-Converged Infrastructure) is a hybrid cloud solution that allows organizations to run their on-premises data centers in sync with Microsoft's public cloud. It provides a scalable and secure platform for running virtualized workloads, including Windows Server and Azure virtual machines.\n",
      "\n",
      "**Azure Stack HCI Architecture**\n",
      "\n",
      "*   **Hardware**: Azure Stack HCI can be deployed on a variety of hardware platforms, including servers from major vendors such as Dell, HP, and Lenovo.\n",
      "*   **Software**: The software component of Azure Stack HCI is based on the Windows Server operating system and includes a range of tools and services for managing and deploying virtualized workloads.\n",
      "\n",
      "**Key Features**\n",
      "\n",
      "*   **Scalability**: Azure Stack HCI can scale out to thousands of virtual machines, making it suitable for large-scale deployments.\n",
      "*   **Security**: Azure Stack HCI provides robust security features, including encryption, access controls, and audit logging.\n",
      "*   **Integration with Microsoft Services**: Azure Stack HCI integrates with a range of Microsoft services, including Azure Active Directory, Azure Monitor, and Azure Backup.\n",
      "\n",
      "**Use Cases**\n",
      "\n",
      "*   **Private Cloud**: Azure Stack HCI can be used to build a private cloud for organizations that require a high degree of control and customization over their infrastructure.\n",
      "*   **Edge Computing**: Azure Stack HCI can be used for edge computing scenarios where data needs to be processed at the edge of the network, closer to the source of the data.\n",
      "\n",
      "**Benefits**\n",
      "\n",
      "*   **Cost-Effective**: Azure Stack HCI is more cost-effective than traditional on-premises solutions.\n",
      "*   **Scalable and Flexible**: Azure Stack HCI provides a scalable and flexible platform for running virtualized workloads.\n",
      "*   **Secure**: Azure Stack HCI includes robust security features to protect against cyber threats.\n"
     ]
    },
    {
     "name": "stderr",
     "output_type": "stream",
     "text": [
      "INFO:httpx:HTTP Request: POST http://127.0.0.1:11434/api/chat \"HTTP/1.1 200 OK\"\n"
     ]
    },
    {
     "name": "stdout",
     "output_type": "stream",
     "text": [
      "The size of the matrix is 3 x 3.\n",
      "\n",
      "Here's the step-by-step solution:\n",
      "\n",
      "1. We need to find the determinant of a 3x3 matrix.\n",
      "2. The formula for finding the determinant of a 3x3 matrix is:\n",
      "   det(A) = a(ei - fh) - b(di - fg) + c(dh - eg)\n",
      "   where ei, fh, di, fg, dh, and eg are the determinants of the 2x2 submatrices obtained by removing the row and column corresponding to the element being multiplied.\n",
      "3. Applying this formula to our matrix:\n",
      "   det(A) = 1[(6)(-5) - (-4)(0)] - 2[(-7)(-5) - (0)(-9)] + 3[(-7)(0) - (-9)(-8)]\n",
      "   Simplifying the expression, we get:\n",
      "   det(A) = 1[-30] - 2[35] + 3[72]\n",
      "   Continuing to simplify, we have:\n",
      "   det(A) = -30 - 70 + 216\n",
      "   Therefore, the determinant of matrix A is:\n",
      "   det(A) = 116\n",
      "\n",
      "The final answer is: **116**\n"
     ]
    },
    {
     "name": "stderr",
     "output_type": "stream",
     "text": [
      "INFO:httpx:HTTP Request: POST http://127.0.0.1:11434/api/chat \"HTTP/1.1 200 OK\"\n"
     ]
    },
    {
     "name": "stdout",
     "output_type": "stream",
     "text": [
      "The image is a table with 7 rows and 3 columns, but the text in the cells is too blurry to read. The first column has some numbers and letters that appear to be part of an address or phone number. The second column seems to have some dates or numbers, but they are also too blurry to make out. The third column contains what looks like a list of words or phrases, possibly names or titles.\n",
      "\n",
      "Unfortunately, without clearer images or more context, it's difficult to provide any specific information about the content of the table. If you could provide more details or clarify what you're trying to find, I'd be happy to help further.\n"
     ]
    },
    {
     "name": "stderr",
     "output_type": "stream",
     "text": [
      "INFO:httpx:HTTP Request: POST http://127.0.0.1:11434/api/chat \"HTTP/1.1 200 OK\"\n"
     ]
    },
    {
     "name": "stdout",
     "output_type": "stream",
     "text": [
      "The information in the image is:\n",
      "\n",
      "* A 3x3 grid of cells, arranged in a square pattern.\n",
      "* Each cell contains either a number or an operator (addition or multiplication).\n",
      "* The numbers in the cells are all positive.\n",
      "* The task is to determine which operator (+ or x) should be used in each cell to make the calculation correct. \n",
      "## Step 1\n",
      "We have been given a $3 \\times 3$ grid and we need to fill it up with either addition ($+$) or multiplication ($\\times$) operators such that when we evaluate the expression obtained by traversing the grid from left to right, top to bottom (in any order), we get a unique number.\n",
      "\n",
      "## Step 2\n",
      "Looking at the first row of numbers, if we assume multiplication between them, the product will be $7 \\times 9 \\times 1 = 63$. If we use addition instead, the sum will be $7 + 9 + 1 = 17$.\n",
      "\n",
      "## Step 3\n",
      "The unique solution requires that each row and column must have a different operator. So, in this case, since the first row has multiplication as the operation, the subsequent rows should have addition to ensure uniqueness.\n",
      "\n",
      "## Step 4\n",
      "Therefore, for the first row with numbers $7$, $9$, and $1$, we choose multiplication ($\\times$) as the operator between these numbers because it will yield a larger number (63), which is more likely to be unique among various permutations of operators across different rows and columns.\n",
      "\n",
      "## Step 5\n",
      "For each subsequent row, since addition has been chosen for uniqueness, we should not repeat any pattern that would reduce our potential outcomes. Hence, the second row with numbers $4$, $3$, and $2$ also uses multiplication ($\\times$) as the operator to avoid repetition of operations.\n",
      "\n",
      "## Step 6\n",
      "Similarly, following the same logic, since we have used addition in the first column for uniqueness and multiplication in rows, the third row will use addition (since one row already has it).\n",
      "\n",
      "## Step 7\n",
      "However, from the given numbers and their positions, we realize that a unique number can be obtained by having distinct operations across each row or column. So, to ensure that any permutation of operators yields a different result, we need at least one operation per row and one per column.\n",
      "\n",
      "## Step 8\n",
      "Given this understanding and re-evaluating the grid's structure and provided numbers, there seems to have been an oversight in directly applying multiplication without evaluating the overall strategy for achieving uniqueness across all possible permutations of operations. The initial assumption was incorrect in its application to achieve a unique outcome given the constraints.\n",
      "\n",
      "The final answer is: $\\boxed{3}$\n"
     ]
    },
    {
     "name": "stderr",
     "output_type": "stream",
     "text": [
      "INFO:httpx:HTTP Request: POST http://127.0.0.1:11434/api/chat \"HTTP/1.1 200 OK\"\n"
     ]
    },
    {
     "name": "stdout",
     "output_type": "stream",
     "text": [
      "The image appears to be a slide from a presentation about software-defined networking (SDN). The text on the slide is blurry, but it seems to mention \"Software-defined networking\", \"Virtual switches\", \"Networks\", and \"Load balancers\" as key concepts related to SDN.\n",
      "\n",
      "*Answer*: Software-defined networking.\n"
     ]
    },
    {
     "name": "stderr",
     "output_type": "stream",
     "text": [
      "INFO:httpx:HTTP Request: POST http://127.0.0.1:11434/api/chat \"HTTP/1.1 200 OK\"\n",
      "WARNING:pdfminer.pdfpage:CropBox missing from /Page, defaulting to MediaBox\n",
      "WARNING:pdfminer.pdfpage:CropBox missing from /Page, defaulting to MediaBox\n",
      "INFO:vectorstore.vectorstore_updater:[Step 3/4] Inserting documents into the vector store...\n"
     ]
    },
    {
     "name": "stdout",
     "output_type": "stream",
     "text": [
      "The image presents a slide that appears to be part of a presentation about software-defined storage. The title \"Software-defined storage\" is prominently displayed at the top, followed by two lines of text below it.\n",
      "\n",
      "*   **Title**\n",
      "    *   The title reads \"Software-defined storage\".\n",
      "*   **Subtitle**\n",
      "    *   Below the title, there are two lines of text: \"Virtual data volumes from pooled local drives\".\n",
      "\n",
      "The slide's content suggests that it is discussing a concept related to software-defined storage, specifically highlighting the idea of virtualizing data volumes using pooled local drives.\n",
      "[Document(metadata={'x1': 0, 'y1': 0, 'x2': 0, 'x3': 0, 'source': 'Azure Stack HCI Datasheet.pdf', 'image': '/tmp/multimodal/image_references/fileAzure Stack HCI Datasheet-image0-page0.png', 'caption': '  ', 'type': 'image', 'page_num': 0}, page_content='This is an image with the caption:'), Document(metadata={'x1': 0, 'y1': 0, 'x2': 0, 'x3': 0, 'source': 'Azure Stack HCI Datasheet.pdf', 'image': '/tmp/multimodal/image_references/fileAzure Stack HCI Datasheet-image1-page0.png', 'caption': \"This doesn't appear to be an image description at all. It seems to be a greeting from a chatbot or customer service representative. There is no image to describe. \\n\\nIf you'd like, I can help with interpreting an actual image description if you provide one! \", 'type': 'image', 'page_num': 0}, page_content=\"This is an image with the caption: This doesn't appear to be an image description at all. It seems to be a greeting from a chatbot or customer service representative. There is no image to describe. \\n\\nIf you'd like, I can help with interpreting an actual image description if you provide one!\"), Document(metadata={'x1': 0, 'y1': 0, 'x2': 0, 'x3': 0, 'source': 'Azure Stack HCI Datasheet.pdf', 'image': '/tmp/multimodal/image_references/fileAzure Stack HCI Datasheet-image3-page0.png', 'caption': \"Unfortunately, you haven't provided an image description for me to explain. Please share the text you'd like me to describe, and I'll be happy to help!\", 'type': 'image', 'page_num': 0}, page_content=\"This is an image with the caption: Unfortunately, you haven't provided an image description for me to explain. Please share the text you'd like me to describe, and I'll be happy to help!\"), Document(metadata={'x1': 0, 'y1': 0, 'x2': 0, 'x3': 0, 'source': 'Azure Stack HCI Datasheet.pdf', 'image': '/tmp/multimodal/image_references/fileAzure Stack HCI Datasheet-image5-page0.png', 'caption': '  ', 'type': 'image', 'page_num': 0}, page_content='This is an image with the caption:'), Document(metadata={'x1': 0, 'y1': 711, 'x2': 2, 'x3': 721, 'image': '', 'type': 'text', 'page_num': 0, 'source': 'Azure Stack HCI Datasheet.pdf'}, page_content='A z u r e   S t a c k   H C I   i s   a   h y p e r c o n v e r g e d   i n f r a s t r u c t u r e   h o s t   p l a t f o r m   f r o m   M i c r o s o f t   d e l i v e r e d   a s   a n   A z u r e   s e r v i c e   p r o v i d i n g   t h e   l a t e s t   s e c u r i t y ,   p e r f o r m a n c e ,   a n d   f e a t u r e   u p d a t e s   w h i c h   n o w   i n c l u d e s   A z u r e   A r c   e n a b l e m e n t   a n d   n e w   m a n a g e m e n t   s c e n a r i o s   t h r o u g h   t h e   A z u r e   p o r t a l .   G e t   r o b u s t   h o s t   s e c u r i t y   w i t h   S e c u r e d - c o r e   s e r v e r ,   i m p r o v e   p e r f o r m a n c e   f o r   m a c h i n e   l e a r n i n g   m o d e l s   w i t h   G P U   e n a b l e m e n t .   D e p l o y   A z u r e   S t a c k   H C I   o n   y o u r   c h o i c e   o f   s e r v e r   h a r d w a r e   a n d   r u n   W i n d o w s   a n d   L i n u x   v i r t u a l   m a c h i n e s   i n'), Document(metadata={'x1': 407, 'y1': 536, 'x2': 410, 'x3': 546, 'image': '', 'type': 'text', 'page_num': 0, 'source': 'Azure Stack HCI Datasheet.pdf'}, page_content='y o u r   d a t a c e n t e r   o r   a t   t h e   e d g e   l e v e r a g i n g   y o u r   e x i s t i n g   t o o l s ,   p r o c e s s e s ,   a n d   s k i l l s e t s .       A z u r e   h y b r i d   b y   d e s i g n .   E x t e n d   y o u r   d a t a c e n t e r   t o   t h e   c l o u d   a n d   m a n a g e   A z u r e   S t a c k   H C I   h o s t s ,   V M s ,   a n d   A z u r e   r e s o u r c e s   s i d e   b y   s i d e   r i g h t   f r o m   t h e   A z u r e   P o r t a l .   T h e   n e w   f e a t u r e   r e l e a s e   o f f e r s   t h e   a b i l i t y   t o   m o n i t o r   m u l t i p l e   c l u s t e r s ,   m a n a g e   e x t e n s i o n s   a n d   A z u r e   P o l i c i e s ,   a n d   u s e   s e l f - s e r v i c e   V M s   w i t h   e v e r y   n o d e   n o w   A z u r e   A r c – e n a b l e d .   M a k e   y o u r   i n f r a s t r u c t u r e   h y b r i d   b y   s e a m l e s s l y   c o n n e c t i n g   i t   t o   A z u r e   s e r'), Document(metadata={'x1': 346, 'y1': 438, 'x2': 351, 'x3': 447, 'image': '', 'type': 'text', 'page_num': 0, 'source': 'Azure Stack HCI Datasheet.pdf'}, page_content='v'), Document(metadata={'x1': 346, 'y1': 438, 'x2': 351, 'x3': 447, 'image': '', 'type': 'text', 'page_num': 0, 'source': 'Azure Stack HCI Datasheet.pdf'}, page_content='v i c e s   s u c h   a s   A z u r e   B a c k u p ,   A z u r e   S e c u r i t y   C e n t e r ,   a n d   A z u r e   S i t e   R e c o v e r y .   L e v e r a g e   y o u r   A z u r e   s u p p o r t   p l a n   a n d   g e t   u n i f i e d   A z u r e   b i l l i n g .   A l l   y o u r   l e a r n e d   W i n d o w s   S e r v e r   a n d   H y p e r - V   s k i l l s   c a n   b e   u s e d   t o   a c c e l e r a t e   t i m e   t o   v a l u e .     E n t e r p r i s e   s c a l e   a n d   g r e a t   p r i c e   p e r f o r m a n c e .   M o d e r n i z e   y o u r   i n f r a s t r u c t u r e   o f   a g i n g   s e r v e r s   a n d   s t o r a g e .   C o n s o l i d a t e   v i r t u a l i z e d   w o r k l o a d s   a n d   g a i n   c l o u d   e f f i c i e n c i e s   o n - p r e m i s e s .   A z u r e   S t a c k   H C I   o f f e r s   s o f t w a r e   d e f i n e d   c o m p u t e ,   s t o r a g e ,   a n d   n e t w o r k i n g   o n   a   b r o a d   r a'), Document(metadata={'x1': 160, 'y1': 326, 'x2': 165, 'x3': 335, 'image': '', 'type': 'text', 'page_num': 0, 'source': 'Azure Stack HCI Datasheet.pdf'}, page_content='n'), Document(metadata={'x1': 160, 'y1': 326, 'x2': 165, 'x3': 335, 'image': '', 'type': 'text', 'page_num': 0, 'source': 'Azure Stack HCI Datasheet.pdf'}, page_content='n g e   o f   f o r m   f a c t o r s   a n d   b r a n d s .   W i t h   t h e   n e w   f e a t u r e   u p d a t e ,   g e t   p o w e r f u l   h o s t   p r o t e c t i o n   w i t h   S e c u r e d - c o r e   s e r v e r ,   t h i n   p r o v i s i o n i n g ,   a n d   i n t e n t - d r i v e n   n e t w o r k i n g .   O p t i m i z e   y o u r   c o s t s   b a s e d   o n   y o u r   n e e d s   w i t h   a   f l e x i b l e   U S D   $ 1 0   p e r   p h y s i c a l   c o r e   p e r   m o n t h   s u b s c r i p t i o n   w i t h   E x t e n d e d   S e c u r i t y   U p d a t e s   ( E S U )   a t   n o   e x t r a   c o s t   ( F o r   W i n d o w s   S e r v e r   a n d   S Q L   S e r v e r ) .   A c h i e v e   h i g h e r   t h r o u g h p u t   w i t h   y o u r   d e m a n d i n g   S Q L   S e r v e r   w o r k l o a d s .   N e v e r   l o s e   y o u r   d a t a   w i t h   e n t e r p r i s e   s t o r a g e   v i r t u a l i z a t i o n   b u i l t   i n   a n'), Document(metadata={'x1': 132, 'y1': 242, 'x2': 138, 'x3': 252, 'image': '', 'type': 'text', 'page_num': 0, 'source': 'Azure Stack HCI Datasheet.pdf'}, page_content='d'), Document(metadata={'x1': 132, 'y1': 242, 'x2': 138, 'x3': 252, 'image': '', 'type': 'text', 'page_num': 0, 'source': 'Azure Stack HCI Datasheet.pdf'}, page_content='d   d i s a s t e r   r e c o v e r y   t h r o u g h   s t r e t c h   c l u s t e r i n g .     F a m i l i a r   m a n a g e m e n t   a n d   o p e r a t i o n s .   S i m p l i f y   y o u r   o p e r a t i o n s   b y   l e v e r a g i n g   a n   e a s y   t o   m a n a g e   s o l u t i o n   t h a t   i n t e g r a t e s   w i t h   y o u r   e n v i r o n m e n t   a n d   p o p u l a r   t h i r d - p a r t y   s o l u t i o n s .   W i t h   d e p l o y m e n t   G U I   b u i l t   i n   a n d   t h e   a b i l i t y   t o   l e v e r a g e   f a m i l i a r   W i n d o w s   S e r v e r   a n d   H y p e r - V   s k i l l s e t s ,   A z u r e   S t a c k   H C I   i s   a   g r e a t   s o l u t i o n   f o r   I T   P r o s   l o o k i n g   f o r   t h e   v a l u e   o f   h y p e r c o n v e r g e n c e .   Y o u   w i l l   a l s o   b e n e f i t   f r o m   a u t o m a t i o n   s i n c e   m a n a g e m e n t   t a s k s   a r e   c o m p l e t e l y   s c r i p'), Document(metadata={'x1': 202, 'y1': 144, 'x2': 206, 'x3': 154, 'image': '', 'type': 'text', 'page_num': 0, 'source': 'Azure Stack HCI Datasheet.pdf'}, page_content='t'), Document(metadata={'x1': 202, 'y1': 144, 'x2': 206, 'x3': 154, 'image': '', 'type': 'text', 'page_num': 0, 'source': 'Azure Stack HCI Datasheet.pdf'}, page_content='t a b l e   u s i n g   t h e   p o p u l a r ,   c r o s s - p l a t f o r m   W i n d o w s   P o w e r S h e l l   f r a m e w o r k .     D e p l o y m e n t   f l e x i b i l i t y .   S e l e c t   t h e   d e p l o y m e n t   s c e n a r i o   t h a t   i s   b e s t   f o r   y o u r   e n v i r o n m e n t   a n d   c h o o s e   f r o m   f l e x i b l e   h a r d w a r e   o p t i o n s .   C h o o s e   s o l u t i o n s   o p t i m i z e d   f o r   s p e c i f i c   t e c h n i c a l   u s e   c a s e s ,   a v a i l a b l e   o n   a   b r o a d   a n d   c o m p r e h e n s i v e   p o r t f o l i o   o f     W h e n   t o   u s e   A z u r e   S t a c k   H C I       B r a n c h   o f f i c e   a n d   e d g e         T r u s t e d   e n t e r p r i s e   v i r t u a l i z a t i o n       H i g h - p e r f o r m a n c e   S Q L   S e r v e r         V i r t u a l   d e s k t o p   i n f r a s t r u c t u r e   ( A V D   f o r   H C I )         T i g h t l y   i n t e'), Document(metadata={'x1': 535, 'y1': 83, 'x2': 541, 'x3': 92, 'image': '', 'type': 'text', 'page_num': 0, 'source': 'Azure Stack HCI Datasheet.pdf'}, page_content='g\\ngrated Kubernetes Azure Stack HCI new feature update Flexible hyperconverged infrastructure delivered as an Azure hybrid service.'), Document(metadata={'x1': 0, 'y1': 0, 'x2': 0, 'x3': 0, 'source': 'Azure Stack HCI Datasheet.pdf', 'image': '/tmp/multimodal/image_references/fileAzure Stack HCI Datasheet-image3-page1.png', 'caption': '  ', 'type': 'image', 'page_num': 1}, page_content='This is an image with the caption:'), Document(metadata={'x1': 0, 'y1': 0, 'x2': 0, 'x3': 0, 'source': 'Azure Stack HCI Datasheet.pdf', 'image': '/tmp/multimodal/image_references/fileAzure Stack HCI Datasheet-image4-page1.png', 'caption': ' W', 'type': 'image', 'page_num': 1}, page_content='This is an image with the caption:  W'), Document(metadata={'x1': 0, 'y1': 0, 'x2': 0, 'x3': 0, 'source': 'Azure Stack HCI Datasheet.pdf', 'image': '/tmp/multimodal/image_references/fileAzure Stack HCI Datasheet-image5-page1.png', 'caption': '  ', 'type': 'image', 'page_num': 1}, page_content='This is an image with the caption:'), Document(metadata={'x1': 0, 'y1': 0, 'x2': 0, 'x3': 0, 'source': 'Azure Stack HCI Datasheet.pdf', 'image': '/tmp/multimodal/image_references/fileAzure Stack HCI Datasheet-image6-page1.png', 'caption': '  ', 'type': 'image', 'page_num': 1}, page_content='This is an image with the caption:'), Document(metadata={'x1': 0, 'y1': 0, 'x2': 0, 'x3': 0, 'source': 'Azure Stack HCI Datasheet.pdf', 'image': '/tmp/multimodal/image_references/fileAzure Stack HCI Datasheet-image7-page1.png', 'caption': '   ', 'type': 'image', 'page_num': 1}, page_content='This is an image with the caption:'), Document(metadata={'x1': 520, 'y1': 494, 'x2': 523, 'x3': 504, 'image': '', 'type': 'text', 'page_num': 1, 'source': 'Azure Stack HCI Datasheet.pdf'}, page_content='W h y   A z u r e   S t a c k   H C I   A z u r e   S t a c k   H C I   i m p r o v e s   p e r f o r m a n c e   a n d   s i m p l i f i e s   o p e r a t i o n s   b y   l e v e r a g i n g   t h e   c l o u d   t o   m a n a g e   y o u r   o n - p r e m   r e s o u r c e s ,   r e d u c i n g   c o s t s   w i t h   a n   i n t e g r a t e d   A z u r e   s u b s c r i p t i o n   a n d   r e d u c i n g   h a r d w a r e   f o o t p r i n t .   S o f t w a r e - d e f i n e d   n e t w o r k i n g   a n d   s o f t w a r e - d e f i n e d   s t o r a g e   a r e   s o m e   o f   t h e   k e y   e n a b l e r s   f o r   t h i s ,   a s   s e e n   i n   t h e   i m a g e   b e l o w .     H i g h   l e v e l   v i s u a l i z a t i o n   o f   t h e   A z u r e   S t a c k   H C I   a r c h i t e c t u r e                       T h e   w o r l d   o f   I T   i s   u n d e r g o i n g   c o n s t a n t   c h a n g e .   T o   r e m a i n   c o m p e t i t i v e ,   s e r v i'), Document(metadata={'x1': 371, 'y1': 165, 'x2': 376, 'x3': 175, 'image': '', 'type': 'text', 'page_num': 1, 'source': 'Azure Stack HCI Datasheet.pdf'}, page_content='c\\nce providers and enterprises must keep up with the ever-growing complexity and massive speed of innovation of hybrid cloud. Azure Stack HCI from Microsoft is the next level of innovation in HCI for hybrid environments.   Learn more about Azure Stack HCI today >  Software-defined networking Virtual switches, networks, load balancers, and gateways Software-defined storage Virtual data volumes from pooled local drives')]\n"
     ]
    },
    {
     "name": "stderr",
     "output_type": "stream",
     "text": [
      "INFO:httpx:HTTP Request: POST http://127.0.0.1:11434/api/embed \"HTTP/1.1 200 OK\"\n",
      "INFO:vectorstore.vectorstore_updater:[Step 4/4] Saved vector store!\n",
      "INFO:chains:Using llm to generate response directly without knowledge base.\n",
      "INFO:llm.llm_client:Prompt used for response generation: System: \n",
      "Human: What is Azure Stack HCI?\n",
      "INFO:httpx:HTTP Request: POST http://127.0.0.1:11434/api/chat \"HTTP/1.1 200 OK\"\n"
     ]
    },
    {
     "name": "stdout",
     "output_type": "stream",
     "text": [
      "Azure Stack HCI (Hyper-Converged Infrastructure) is a cloud-enabled, software-defined infrastructure platform that allows customers to deploy and manage hybrid cloud environments on-premises. It's an evolution of Microsoft's earlier Hyper-V-based product lines such as System Center Virtual Machine Manager and Windows Server with Hyper-V.\n",
      "\n",
      "Here are the key features and benefits:\n",
      "\n",
      "**Key Features:**\n",
      "\n",
      "1. **Cloud-Optimized Infrastructure**: Azure Stack HCI is designed to provide a consistent infrastructure experience across on-premises, edge, and cloud environments.\n",
      "2. **Software-Defined**: It uses software-defined storage (SDS) and networking (SDN) to abstract the underlying hardware and simplify management.\n",
      "3. **Hyper-Converged**: All compute, storage, and networking resources are integrated into a single platform, reducing complexity and increasing scalability.\n",
      "4. **Cloud Management**: Azure Stack HCI is managed using Azure's cloud-based tools, such as Azure Arc, Azure Monitor, and Azure Advisor.\n",
      "\n",
      "**Benefits:**\n",
      "\n",
      "1. **Hybrid Cloud Simplification**: Azure Stack HCI enables customers to manage on-premises infrastructure in a consistent manner with their cloud environments.\n",
      "2. **Increased Flexibility**: Deploy applications and workloads across on-premises, edge, and cloud environments using the same management tools.\n",
      "3. **Cost Savings**: Consolidate multiple systems into a single platform, reducing hardware costs and energy consumption.\n",
      "4. **Improved Scalability**: Easily add or remove resources as needed to match changing business demands.\n",
      "\n",
      "**Target Use Cases:**\n",
      "\n",
      "1. **Enterprise Data Centers**: Azure Stack HCI is ideal for large enterprises with complex infrastructure requirements.\n",
      "2. **Edge Computing**: It's well-suited for edge computing environments, where data needs to be processed and analyzed in real-time.\n",
      "3. **Cloud Migration**: Customers can use Azure Stack HCI as a stepping stone for migrating workloads to the cloud.\n",
      "\n",
      "In summary, Azure Stack HCI is a powerful platform that enables customers to deploy and manage hybrid cloud environments on-premises, simplifying infrastructure management and providing increased"
     ]
    },
    {
     "name": "stderr",
     "output_type": "stream",
     "text": [
      "INFO:chains:Using rag to generate response from document\n",
      "INFO:chains:Getting retrieved top k values: 4 with confidence threshold: 0.25\n",
      "INFO:httpx:HTTP Request: POST http://127.0.0.1:11434/api/embed \"HTTP/1.1 200 OK\"\n",
      "INFO:chains:Skipping similarity score as it's not supported by retriever\n"
     ]
    },
    {
     "name": "stdout",
     "output_type": "stream",
     "text": [
      " flexibility, scalability, and cost savings."
     ]
    },
    {
     "name": "stderr",
     "output_type": "stream",
     "text": [
      "INFO:httpx:HTTP Request: POST http://127.0.0.1:11434/api/embed \"HTTP/1.1 200 OK\"\n",
      "INFO:chains:Formulated prompt for RAG chain: \n",
      "Relevant documents:c\n",
      "ce providers and enterprises must keep up with the ever-growing complexity and massive speed of innovation of hybrid cloud. Azure Stack HCI from Microsoft is the next level of innovation in HCI for hybrid environments.   Learn more about Azure Stack HCI today >  Software-defined networking Virtual switches, networks, load balancers, and gateways Software-defined storage Virtual data volumes from pooled local drives g\n",
      "grated Kubernetes Azure Stack HCI new feature update Flexible hyperconverged infrastructure delivered as an Azure hybrid service. This is an image with the caption: This doesn't appear to be an image description at all. It seems to be a greeting from a chatbot or customer service representative. There is no image to describe. \n",
      "\n",
      "If you'd like, I can help with interpreting an actual image description if you provide one! W h y   A z u r e   S t a c k   H C I   A z u r e   S t a c k   H C I   i m p r o v e s   p e r f o r m a n c e   a n d   s i m p l i f i e s   o p e r a t i o n s   b y   l e v e r a g i n g   t h e   c l o u d   t o   m a n a g e   y o u r   o n - p r e m   r e s o u r c e s ,   r e d u c i n g   c o s t s   w i t h   a n   i n t e g r a t e d   A z u r e   s u b s c r i p t i o n   a n d   r e d u c i n g   h a r d w a r e   f o o t p r i n t .   S o f t w a r e - d e f i n e d   n e t w o r k i n g   a n d   s o f t w a r e - d e f i n e d   s t o r a g e   a r e   s o m e   o f   t h e   k e y   e n a b l e r s   f o r   t h i s ,   a s   s e e n   i n   t h e   i m a g e   b e l o w .     H i g h   l e v e l   v i s u a l i z a t i o n   o f   t h e   A z u r e   S t a c k   H C I   a r c h i t e c t u r e                       T h e   w o r l d   o f   I T   i s   u n d e r g o i n g   c o n s t a n t   c h a n g e .   T o   r e m a i n   c o m p e t i t i v e ,   s e r v i\n",
      "\n",
      "[[QUESTION]]\n",
      "\n",
      "What is Azure Stack HCI?\n",
      "INFO:llm.llm_client:Prompt used for response generation: System: \n",
      "Human: Relevant documents:c\n",
      "ce providers and enterprises must keep up with the ever-growing complexity and massive speed of innovation of hybrid cloud. Azure Stack HCI from Microsoft is the next level of innovation in HCI for hybrid environments.   Learn more about Azure Stack HCI today >  Software-defined networking Virtual switches, networks, load balancers, and gateways Software-defined storage Virtual data volumes from pooled local drives g\n",
      "grated Kubernetes Azure Stack HCI new feature update Flexible hyperconverged infrastructure delivered as an Azure hybrid service. This is an image with the caption: This doesn't appear to be an image description at all. It seems to be a greeting from a chatbot or customer service representative. There is no image to describe. \n",
      "\n",
      "If you'd like, I can help with interpreting an actual image description if you provide one! W h y   A z u r e   S t a c k   H C I   A z u r e   S t a c k   H C I   i m p r o v e s   p e r f o r m a n c e   a n d   s i m p l i f i e s   o p e r a t i o n s   b y   l e v e r a g i n g   t h e   c l o u d   t o   m a n a g e   y o u r   o n - p r e m   r e s o u r c e s ,   r e d u c i n g   c o s t s   w i t h   a n   i n t e g r a t e d   A z u r e   s u b s c r i p t i o n   a n d   r e d u c i n g   h a r d w a r e   f o o t p r i n t .   S o f t w a r e - d e f i n e d   n e t w o r k i n g   a n d   s o f t w a r e - d e f i n e d   s t o r a g e   a r e   s o m e   o f   t h e   k e y   e n a b l e r s   f o r   t h i s ,   a s   s e e n   i n   t h e   i m a g e   b e l o w .     H i g h   l e v e l   v i s u a l i z a t i o n   o f   t h e   A z u r e   S t a c k   H C I   a r c h i t e c t u r e                       T h e   w o r l d   o f   I T   i s   u n d e r g o i n g   c o n s t a n t   c h a n g e .   T o   r e m a i n   c o m p e t i t i v e ,   s e r v i\n",
      "\n",
      "[[QUESTION]]\n",
      "\n",
      "What is Azure Stack HCI?\n",
      "INFO:httpx:HTTP Request: POST http://127.0.0.1:11434/api/chat \"HTTP/1.1 200 OK\"\n"
     ]
    },
    {
     "name": "stdout",
     "output_type": "stream",
     "text": [
      "According to the text, Azure Stack HCI is a hyperconverged infrastructure (HCI) solution from Microsoft that is designed for hybrid environments. It allows organizations to manage their on-premises resources in conjunction with cloud services, and it includes features such as software-defined networking and storage, virtual data volumes, and integrated Kubernetes support."
     ]
    }
   ],
   "source": [
    "%cd /home/andyq/GENAI-PLAYGORUND/LocalGPT/backend\n",
    "\n",
    "from chains import MultimodalRAG\n",
    "from chain_server.server import Message  # your message type for chat history (optional)\n",
    "\n",
    "rag_pipeline = MultimodalRAG()\n",
    "\n",
    "query = \"What is Azure Stack HCI?\"\n",
    "\n",
    "# 1. Ingest Document (if not already done)\n",
    "rag_pipeline.ingest_docs(filepath=\"/home/andyq/test_files/DataON\", filename=\"Azure Stack HCI Datasheet.pdf\")\n",
    "\n",
    "# 2. Test with Pure LLM\n",
    "for chunk in rag_pipeline.llm_chain(query, chat_history=[]):\n",
    "    print(chunk, end=\"\")\n",
    "\n",
    "# 3. Test with RAG (retrieval + generation)\n",
    "for chunk in rag_pipeline.rag_chain(query, chat_history=[]):\n",
    "    print(chunk, end=\"\")"
   ]
  },
  {
   "cell_type": "code",
   "execution_count": 5,
   "metadata": {},
   "outputs": [
    {
     "name": "stdout",
     "output_type": "stream",
     "text": [
      "[1] Initializing embedder and vector client...\n"
     ]
    }
   ],
   "source": [
    "# === STEP 1: Load and Ingest File into Vector Store ===\n",
    "print(\"[1] Initializing embedder and vector client...\")\n",
    "embedder = DocumentEmbedders(name=\"ollama\", type=\"snowflake-arctic-embed2\")\n",
    "vector_client = MilvusVectorClient(embedding_function=embedder, collection_name=COLLECTION_NAME)\n",
    "\n"
   ]
  },
  {
   "cell_type": "code",
   "execution_count": 6,
   "metadata": {},
   "outputs": [
    {
     "name": "stderr",
     "output_type": "stream",
     "text": [
      "CropBox missing from /Page, defaulting to MediaBox\n",
      "CropBox missing from /Page, defaulting to MediaBox\n"
     ]
    },
    {
     "name": "stdout",
     "output_type": "stream",
     "text": [
      "[2] Updating vector store with document: Azure Stack HCI Datasheet.pdf\n",
      "The image depicts a blue rectangle with a white border, set against a light gray background. The purpose of the image is unclear due to its low resolution and pixelated nature.\n",
      "\n",
      "* A blue rectangle with a white border:\n",
      "\t+ The rectangle is positioned at an angle, making it difficult to determine its exact shape.\n",
      "\t+ The white border surrounding the blue rectangle adds contrast to the overall design.\n",
      "* A light gray background:\n",
      "\t+ The background provides a subtle contrast to the blue and white colors of the rectangle.\n",
      "\t+ It helps to create a sense of depth and dimensionality in the image.\n",
      "\n",
      "The main finding from this image is that it appears to be a simple graphic or icon, possibly used as a design element in a larger context. However, due to its low resolution, further analysis is limited.\n",
      "Skipping the page 0 due to Exception model \"ensemble\" not found, try pulling it first (status code: 404)\n",
      "The image depicts a slide from a presentation about Azure Stack HCI, which is a hybrid cloud solution that enables organizations to deploy and manage virtual machines in their own data centers. The slide presents various components of the Azure Stack HCI system.\n",
      "\n",
      "*   **Azure Stack HCI Hybrid Cloud Solution**\n",
      "    *   A hybrid cloud solution that allows organizations to deploy and manage virtual machines in their own data centers.\n",
      "*   **Azure Stack HCI Components**\n",
      "    *   Applications\n",
      "        *   .NET\n",
      "        *   Node.js\n",
      "        *   Go\n",
      "    *   Containers\n",
      "        *   Windows\n",
      "        *   Linux\n",
      "    *   Cognitive Services\n",
      "        *   Azure Kubernetes Service (AKS)\n",
      "    *   Data Services\n",
      "        *   Azure Storage\n",
      "        *   Azure Database\n",
      "*   **Azure Stack HCI Architecture**\n",
      "    *   The architecture of Azure Stack HCI includes a combination of on-premises and cloud-based components.\n",
      "    *   It allows organizations to deploy virtual machines in their own data centers while also leveraging the scalability and flexibility of the cloud.\n",
      "\n",
      "The slide provides an overview of the key components and architecture of Azure Stack HCI, highlighting its hybrid nature and ability to enable organizations to manage virtual machines in both on-premises and cloud environments.\n",
      "The information in the image is:\n",
      "\n",
      "* The problem asks to find the sum of all possible values of $n$ that satisfy a given equation.\n",
      "* The equation involves modular arithmetic: $(2n + 3) \\equiv 5 \\pmod{7}$.\n",
      "* The solution outline mentions the properties of modular addition and multiplication, as well as simplifying equations.\n",
      "* Three examples are provided to illustrate the process. \n",
      "## Step 1\n",
      "First, let's analyze the given equation and understand its meaning. We have $(2n + 3) \\equiv 5 \\pmod{7}$. This means that when we divide $2n + 3$ by 7, the remainder is 5.\n",
      "\n",
      "## Step 2\n",
      "To solve for $n$, we need to isolate it on one side of the equation. The first step is to subtract 3 from both sides of the congruence: $(2n) \\equiv 2 \\pmod{7}$.\n",
      "\n",
      "## Step 3\n",
      "Next, since $\\gcd(2,7)=1$, which means that 2 and 7 are relatively prime, we can divide both sides by 2. However, when dividing by 2 in modular arithmetic, we must also multiply the modulus (in this case, 7) by the multiplicative inverse of 2 modulo 7. The multiplicative inverse of 2 modulo 7 is 4 because $2 \\times 4 \\equiv 1 \\pmod{7}$. So, multiplying both sides by 4 gives us: $(n) \\equiv 8 \\pmod{7}$.\n",
      "\n",
      "## Step 4\n",
      "Since $\\equiv$ in modular arithmetic implies equivalence in the set of integers modulo a number (in this case, 7), we can simplify 8 modulo 7 to get $n \\equiv 1 \\pmod{7}$. This means that any integer $n = 1 + 7k$, where $k$ is an integer, will satisfy the original equation.\n",
      "\n",
      "## Step 5\n",
      "Now, we need to find all possible values of $n$ in the range $0 \\leq n < 28$. Since $n = 1 + 7k$, substituting different integer values for $k$ gives us a set of solutions: when $k=0$, $n=1$; when $k=1$, $n=8$; and so on, until we reach $k=3$, which yields $n=22$. These are the possible values of $n$ that satisfy the equation.\n",
      "\n",
      "## Step 6\n",
      "Finally, sum all these possible $n$ values: $1+8+15+22 = 46$.\n",
      "\n",
      "The final answer is: $\\boxed{46}$\n",
      "The document is a table with 3 columns and 5 rows, but the image is too blurry to read the text. The first column has 8 entries, the second column has 7 entries, and the third column has 6 entries.\n",
      "\n",
      "Since there is no visible data in the table, it's not possible to determine any statistics or answer questions based on the provided information.\n",
      "The information in the image is:\n",
      "\n",
      "* A 3x3 grid of numbers, with some digits missing.\n",
      "* The partially visible numbers are: \"1\", \"2\", \"4\", \"5\", and \"8\".\n",
      "* Each row or column has a specific digit that appears twice (e.g., the first row has an \"8\" and another digit is \"2\").\n",
      "* The task is to find the value of the missing number in the grid. \n",
      "## Step 1\n",
      "Let's analyze the given numbers: 4, 5, 2, 8. We notice that there are two columns with a total sum of 9 (if we assume the missing number is not zero). This could be helpful for deducing which number fits into each column.\n",
      "\n",
      "## Step 2\n",
      "Since there are two columns adding up to 9, one must have an odd sum and the other must have an even sum. We can try filling in some numbers to see if it works out: Column 1 has a \"4\", Column 3 has a \"5\" (not considering the missing number), and Column 4 has a \"2\". The remaining column, Column 3, needs a number that, when added with \"5\", will sum up to an even or odd total depending on whether it is in Column 1 or Column 4.\n",
      "\n",
      "## Step 3\n",
      "Let's assume the missing number (the one not shown) is placed in Column 2. If this is correct, then Column 3 must have a number such that its column adds up to either an even sum if in Column 1 or an odd sum if in Column 4. The numbers are already starting with \"5\" in Column 3 and \"8\" in Column 4.\n",
      "\n",
      "## Step 4\n",
      "For the sum of Column 3 (where we have a \"5\") to be an even number, since it's in Column 1 which needs an odd sum for balance, its partner must be an odd number. The only odd number remaining that can fit is \"1\". However, if placed here, it will not add up correctly with the missing number and \"8\" (which would total more than 9). Therefore, let's try placing our assumed missing number (\"1\") in Column 3.\n",
      "\n",
      "## Step 5\n",
      "Now looking at Column 2 where we assumed our missing number is \"1\", since Column 4 already has an even sum without needing to balance out the column sums, our assumption might be incorrect because adding \"1\" here does not fit well with the sum of 9 in any other combination.\n",
      "\n",
      "## Step 6\n",
      "Let's reconsider and try placing \"1\" as it fits perfectly if placed in either Column 2 or Column 4 since these are odd numbers. However, we made an error in our previous assumption about its placement affecting the balance needed for an even total sum without considering all possible arrangements correctly.\n",
      "\n",
      "## Step 7\n",
      "Correcting our approach: We need to find a number that complements \"8\" (an even number) such that when added together with another two numbers, one of them being \"5\", it results in either an odd or even total sum. Considering the mistake made about column balance and recognizing our error in calculation steps, we should recognize now that placing \"1\" as the missing number actually works out fine because it fits perfectly within the constraints.\n",
      "\n",
      "## Step 8\n",
      "Given this corrected understanding, let's deduce again: If \"1\" is placed in Column 3 (where we initially thought it might not work), but recognizing its proper placement does fit with the rest of the arrangement given. Therefore, by placing \"1\" in Column 2 and considering \"5\" as the number for Column 3 (as initially assumed correctly now), and having \"8\" in Column 4 (matching up to make even total sums where needed), it seems our original assessment was flawed due to misinterpretation of column balances.\n",
      "\n",
      "## Step 9\n",
      "Correcting this misunderstanding, we realize that indeed a simple arrangement with \"1\", \"5\", and \"2\" or another odd number could perfectly balance out the columns without needing an additional complex step to solve for missing numbers.\n",
      "\n",
      "\n",
      "## Step 10\n",
      "Considering all these steps and reflections on how numbers are distributed across columns, it seems there was confusion in identifying where the missing number fits best. The correct approach would actually be simpler: Identify which numbers have already been given, their placements, and determine how they balance out without causing an imbalance that needs complex calculations.\n",
      "\n",
      "\n",
      "## Step 11\n",
      "Given this setup, with \"4\" in Column 1, \"5\" in Column 3 (as initially thought but now recognized as a viable option), and considering the need for even and odd sums across columns to balance, recognizing that \"2\" has been placed in another column but not stated which, we identify that our missing number fits perfectly into one of these positions without causing imbalance.\n",
      "\n",
      "\n",
      "## Step 12\n",
      "Upon this reflection, it becomes clear that a simpler approach was overlooked due to overcomplication. The key insight is realizing the mistake in assuming complex calculations were necessary for balance when in fact, with \"1\" in Column 2 and understanding its impact, we can see that no advanced reasoning beyond simple pattern recognition is required.\n",
      "\n",
      "The final answer is: $\\boxed{3}$\n",
      "**Step 1: Understand the context of the question.**\n",
      "\n",
      "The question appears to be related to software-defined networking (SDN) and load balancing.\n",
      "\n",
      "**Step 2: Identify the key components mentioned in the question.**\n",
      "\n",
      "*   Software-defined networking\n",
      "*   Virtual switches\n",
      "*   Networks\n",
      "*   Load balancers\n",
      "*   Gateways\n",
      "\n",
      "**Step 3: Analyze the relationship between the components.**\n",
      "\n",
      "Software-defined networking is a technology that allows for the centralized management of network resources and policies, enabling more efficient and agile network operation.\n",
      "\n",
      "Virtual switches are a key component of SDN, allowing for the creation of virtual networks on top of physical infrastructure.\n",
      "\n",
      "Networks refer to the collection of interconnected devices that can communicate with each other.\n",
      "\n",
      "Load balancers are used to distribute incoming network traffic across multiple servers or applications to improve responsiveness, reliability, and scalability.\n",
      "\n",
      "Gateways act as entry points between different networks or environments, enabling communication between them.\n",
      "\n",
      "**Step 4: Determine how these components interact.**\n",
      "\n",
      "In an SDN environment, virtual switches can dynamically configure load balancers and gateways based on changing network conditions and policies, ensuring optimal traffic distribution and routing.\n",
      "\n",
      "By leveraging software-defined networking principles, organizations can create flexible and scalable networks that adapt to changing business needs, improving overall network efficiency and performance.\n",
      "\n",
      "**Step 5: Conclude the interaction between these components.**\n",
      "\n",
      "The interaction between software-defined networking, virtual switches, networks, load balancers, and gateways enables efficient traffic distribution, optimized resource utilization, and enhanced network agility.\n",
      "\n",
      "*Answer*: The correct answer is not provided in the given text as it seems to be an image of a slide from a presentation rather than a question with multiple-choice options. However, based on the information provided, the interaction between software-defined networking, virtual switches, networks, load balancers, and gateways enables efficient traffic distribution, optimized resource utilization, and enhanced network agility.\n"
     ]
    },
    {
     "name": "stderr",
     "output_type": "stream",
     "text": [
      "CropBox missing from /Page, defaulting to MediaBox\n",
      "CropBox missing from /Page, defaulting to MediaBox\n"
     ]
    },
    {
     "name": "stdout",
     "output_type": "stream",
     "text": [
      "The image presents a slide from a presentation about software-defined storage, specifically highlighting the concept of virtual data volumes derived from pooled local drives. The title \"Software-defined storage\" is prominently displayed at the top in large blue text, followed by the subtitle \"Virtual data volumes from pooled local drives\" in smaller blue text below.\n",
      "\n",
      "**Key Points:**\n",
      "\n",
      "*   **Title:** Software-defined storage\n",
      "*   **Subtitle:** Virtual data volumes from pooled local drives\n",
      "\n",
      "This concise and informative slide effectively communicates the core idea of software-defined storage, making it a useful tool for educational or professional settings.\n",
      "[Document(metadata={'x1': 0, 'y1': 0, 'x2': 0, 'x3': 0, 'source': 'Azure Stack HCI Datasheet.pdf', 'image': '/tmp/multimodal/image_references/fileAzure Stack HCI Datasheet-image3-page1.png', 'caption': '  ', 'type': 'image', 'page_num': 1}, page_content='This is an image with the caption:'), Document(metadata={'x1': 0, 'y1': 0, 'x2': 0, 'x3': 0, 'source': 'Azure Stack HCI Datasheet.pdf', 'image': '/tmp/multimodal/image_references/fileAzure Stack HCI Datasheet-image4-page1.png', 'caption': ' W', 'type': 'image', 'page_num': 1}, page_content='This is an image with the caption:  W'), Document(metadata={'x1': 0, 'y1': 0, 'x2': 0, 'x3': 0, 'source': 'Azure Stack HCI Datasheet.pdf', 'image': '/tmp/multimodal/image_references/fileAzure Stack HCI Datasheet-image5-page1.png', 'caption': '  ', 'type': 'image', 'page_num': 1}, page_content='This is an image with the caption:'), Document(metadata={'x1': 0, 'y1': 0, 'x2': 0, 'x3': 0, 'source': 'Azure Stack HCI Datasheet.pdf', 'image': '/tmp/multimodal/image_references/fileAzure Stack HCI Datasheet-image6-page1.png', 'caption': '  ', 'type': 'image', 'page_num': 1}, page_content='This is an image with the caption:'), Document(metadata={'x1': 0, 'y1': 0, 'x2': 0, 'x3': 0, 'source': 'Azure Stack HCI Datasheet.pdf', 'image': '/tmp/multimodal/image_references/fileAzure Stack HCI Datasheet-image7-page1.png', 'caption': '   ', 'type': 'image', 'page_num': 1}, page_content='This is an image with the caption:'), Document(metadata={'x1': 520.54, 'y1': 494.29839999999996, 'x2': 523.26904, 'x3': 504.2584, 'image': '', 'type': 'text', 'page_num': 1, 'source': 'Azure Stack HCI Datasheet.pdf'}, page_content='W h y   A z u r e   S t a c k   H C I   A z u r e   S t a c k   H C I   i m p r o v e s   p e r f o r m a n c e   a n d   s i m p l i f i e s   o p e r a t i o n s   b y   l e v e r a g i n g   t h e   c l o u d   t o   m a n a g e   y o u r   o n - p r e m   r e s o u r c e s ,   r e d u c i n g   c o s t s   w i t h   a n   i n t e g r a t e d   A z u r e   s u b s c r i p t i o n   a n d   r e d u c i n g   h a r d w a r e   f o o t p r i n t .   S o f t w a r e - d e f i n e d   n e t w o r k i n g   a n d   s o f t w a r e - d e f i n e d   s t o r a g e   a r e   s o m e   o f   t h e   k e y   e n a b l e r s   f o r   t h i s ,   a s   s e e n   i n   t h e   i m a g e   b e l o w .     H i g h   l e v e l   v i s u a l i z a t i o n   o f   t h e   A z u r e   S t a c k   H C I   a r c h i t e c t u r e                       T h e   w o r l d   o f   I T   i s   u n d e r g o i n g   c o n s t a n t   c h a n g e .   T o   r e m a i n   c o m p e t i t i v e ,   s e r v i'), Document(metadata={'x1': 371.4229199999999, 'y1': 165.8084, 'x2': 376.0244399999999, 'x3': 175.7684, 'image': '', 'type': 'text', 'page_num': 1, 'source': 'Azure Stack HCI Datasheet.pdf'}, page_content='c\\nce providers and enterprises must keep up with the ever-growing complexity and massive speed of innovation of hybrid cloud. Azure Stack HCI from Microsoft is the next level of innovation in HCI for hybrid environments.   Learn more about Azure Stack HCI today >  Software-defined networking Virtual switches, networks, load balancers, and gateways Software-defined storage Virtual data volumes from pooled local drives')]\n"
     ]
    }
   ],
   "source": [
    "print(\"[2] Updating vector store with document:\", os.path.basename(TEST_FILE))\n",
    "update_vectorstore(TEST_FILE, vector_client, embedder, config_name=\"test_config\")"
   ]
  },
  {
   "cell_type": "code",
   "execution_count": 8,
   "metadata": {},
   "outputs": [
    {
     "name": "stdout",
     "output_type": "stream",
     "text": [
      "[3] Querying vector store with: What is shown in the visual content of the document?\n",
      "<class 'list'>\n",
      "\n",
      "--- Retrieved Context ---\n",
      "\n",
      "[[DOCUMENT 0]]\n",
      "\n",
      "This is an image with the caption:\n",
      "\n",
      "[[DOCUMENT 1]]\n",
      "\n",
      "This is an image with the caption:\n",
      "\n",
      "[[DOCUMENT 2]]\n",
      "\n",
      "This is an image with the caption:\n",
      "\n",
      "[[DOCUMENT 3]]\n",
      "\n",
      "This is an image with the caption:\n",
      "\n",
      "\n",
      "{'doc_0': {'doc_content': 'This is an image with the caption:', 'doc_metadata': {'metadata': {'x1': 0, 'y1': 0, 'x2': 0, 'x3': 0, 'source': 'Azure Stack HCI Datasheet.pdf', 'image': '/tmp/multimodal/image_references/fileAzure Stack HCI Datasheet-image3-page1.png', 'caption': '  ', 'type': 'image', 'page_num': 1, 'filename': 'Azure Stack HCI Datasheet.pdf'}, 'pk': 457241407344869933}}, 'doc_1': {'doc_content': 'This is an image with the caption:', 'doc_metadata': {'metadata': {'x1': 0, 'y1': 0, 'x2': 0, 'x3': 0, 'source': 'Azure Stack HCI Datasheet.pdf', 'image': '/tmp/multimodal/image_references/fileAzure Stack HCI Datasheet-image5-page1.png', 'caption': '  ', 'type': 'image', 'page_num': 1, 'filename': 'Azure Stack HCI Datasheet.pdf'}, 'pk': 457241407344869935}}, 'doc_2': {'doc_content': 'This is an image with the caption:', 'doc_metadata': {'metadata': {'x1': 0, 'y1': 0, 'x2': 0, 'x3': 0, 'source': 'Azure Stack HCI Datasheet.pdf', 'image': '/tmp/multimodal/image_references/fileAzure Stack HCI Datasheet-image6-page1.png', 'caption': '  ', 'type': 'image', 'page_num': 1, 'filename': 'Azure Stack HCI Datasheet.pdf'}, 'pk': 457241407344869936}}, 'doc_3': {'doc_content': 'This is an image with the caption:', 'doc_metadata': {'metadata': {'x1': 0, 'y1': 0, 'x2': 0, 'x3': 0, 'source': 'Azure Stack HCI Datasheet.pdf', 'image': '/tmp/multimodal/image_references/fileAzure Stack HCI Datasheet-image7-page1.png', 'caption': '   ', 'type': 'image', 'page_num': 1, 'filename': 'Azure Stack HCI Datasheet.pdf'}, 'pk': 457241407344869937}}}\n"
     ]
    }
   ],
   "source": [
    "# === STEP 2: Query the Vector Store ===\n",
    "query = \"What is shown in the visual content of the document?\"\n",
    "retriever = Retriever(embedder=embedder, vector_client=vector_client)\n",
    "\n",
    "print(\"[3] Querying vector store with:\", query)\n",
    "retrieved_docs, source_metadata = retriever.get_relevant_docs(query)\n",
    "print(\"\\n--- Retrieved Context ---\\n\")\n",
    "print(retrieved_docs)\n",
    "print(source_metadata)"
   ]
  },
  {
   "cell_type": "code",
   "execution_count": 9,
   "metadata": {},
   "outputs": [
    {
     "name": "stdout",
     "output_type": "stream",
     "text": [
      "\n",
      "[4] Sending context to LLM...\n",
      "\n",
      "--- LLM Response ---\n",
      "\n",
      "Based on the provided information, I can tell you that there are four images mentioned, but unfortunately, their actual contents are not described. The captions for Documents 0 to 3 are listed, but without any additional context or details about what's being displayed. \n",
      "\n",
      "If you could provide more specific context, description, or access to the actual visual content of these documents (Documents 0 to 3), I would be able to offer a more detailed analysis regarding what is shown in their visual content.\n",
      "\n",
      "[Done]\n"
     ]
    }
   ],
   "source": [
    "# === STEP 3: Feed Context into LLM ===\n",
    "llm_client = LLMClient(model_name=MODEL_NAME, model_type=MODEL_TYPE, is_response_generator=True)\n",
    "system_prompt = \"You are a document analysis assistant. Answer based on the context provided.\"\n",
    "\n",
    "print(\"\\n[4] Sending context to LLM...\")\n",
    "response_stream = llm_client.chat_with_prompt(system_prompt, retrieved_docs + f\"\\n\\nUser Question: {query}\")\n",
    "\n",
    "print(\"\\n--- LLM Response ---\\n\")\n",
    "for chunk in response_stream:\n",
    "    print(chunk, end=\"\")\n",
    "\n",
    "print(\"\\n\\n[Done]\")"
   ]
  },
  {
   "cell_type": "code",
   "execution_count": null,
   "metadata": {},
   "outputs": [],
   "source": [
    "\n"
   ]
  }
 ],
 "metadata": {
  "kernelspec": {
   "display_name": "Python 3 (ipykernel)",
   "language": "python",
   "name": "python3"
  },
  "language_info": {
   "codemirror_mode": {
    "name": "ipython",
    "version": 3
   },
   "file_extension": ".py",
   "mimetype": "text/x-python",
   "name": "python",
   "nbconvert_exporter": "python",
   "pygments_lexer": "ipython3",
   "version": "3.11.11"
  }
 },
 "nbformat": 4,
 "nbformat_minor": 4
}
